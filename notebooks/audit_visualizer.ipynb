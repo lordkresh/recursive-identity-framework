{
 "cells": [
  {
   "cell_type": "markdown",
   "id": "b2b11d8b",
   "metadata": {},
   "source": [
    "# RIF Audit Log Visualizer\n",
    "This notebook plots identity drift and compression ratios over time."
   ]
  },
  {
   "cell_type": "code",
   "execution_count": null,
   "id": "70368f07",
   "metadata": {},
   "outputs": [],
   "source": [
    "import json\n",
    "import matplotlib.pyplot as plt\n",
    "\n",
    "# Load audit log\n",
    "with open('../demo/audit_log.json') as f:\n",
    "    audit_entries = json.load(f)\n",
    "\n",
    "# Extract metrics\n",
    "timestamps = [entry['timestamp'] for entry in audit_entries]\n",
    "drifts = [entry['drift'] for entry in audit_entries]\n",
    "ratios = [entry['compression_ratio'] for entry in audit_entries]\n",
    "\n",
    "# Plot drift\n",
    "plt.figure(figsize=(10,4))\n",
    "plt.plot(timestamps, drifts, marker='o')\n",
    "plt.title('Identity Drift Over Time')\n",
    "plt.xlabel('Timestamp')\n",
    "plt.ylabel('Drift Magnitude')\n",
    "plt.xticks(rotation=45)\n",
    "plt.tight_layout()\n",
    "plt.show()\n",
    "\n",
    "# Plot compression ratio\n",
    "plt.figure(figsize=(10,4))\n",
    "plt.plot(timestamps, ratios, marker='x', color='orange')\n",
    "plt.title('Compression Ratio Over Time')\n",
    "plt.xlabel('Timestamp')\n",
    "plt.ylabel('Ratio')\n",
    "plt.xticks(rotation=45)\n",
    "plt.tight_layout()\n",
    "plt.show()\n"
   ]
  }
 ],
 "metadata": {},
 "nbformat": 4,
 "nbformat_minor": 5
}
